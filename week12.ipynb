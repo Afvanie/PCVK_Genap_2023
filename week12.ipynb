{
  "cells": [
    {
      "cell_type": "markdown",
      "metadata": {
        "id": "view-in-github",
        "colab_type": "text"
      },
      "source": [
        "<a href=\"https://colab.research.google.com/github/Afvanie/PCVK_Genap_2023/blob/main/week12.ipynb\" target=\"_parent\"><img src=\"https://colab.research.google.com/assets/colab-badge.svg\" alt=\"Open In Colab\"/></a>"
      ]
    },
    {
      "cell_type": "markdown",
      "source": [
        "**Jobsheet 11**"
      ],
      "metadata": {
        "id": "DGFmciJmwFPm"
      }
    },
    {
      "cell_type": "code",
      "source": [
        "from google.colab import drive\n",
        "\n",
        "drive.mount('/content/drive')"
      ],
      "metadata": {
        "colab": {
          "base_uri": "https://localhost:8080/"
        },
        "id": "tXwqf1fzru5E",
        "outputId": "2aadd3f9-c3cf-4adc-b18f-b5c15752a848"
      },
      "execution_count": 36,
      "outputs": [
        {
          "output_type": "stream",
          "name": "stdout",
          "text": [
            "Drive already mounted at /content/drive; to attempt to forcibly remount, call drive.mount(\"/content/drive\", force_remount=True).\n"
          ]
        }
      ]
    },
    {
      "cell_type": "code",
      "source": [
        "# 2\n",
        "import numpy as np\n",
        "import cv2\n",
        "import matplotlib.pyplot as plt\n",
        "import numpy as np\n",
        "import PIL\n",
        "import io\n",
        "import html\n",
        "import time\n",
        "%matplotlib inline\n",
        "from IPython.display import display, Javascript, Image\n",
        "from google.colab.output import eval_js\n",
        "from base64 import b64decode, b64encode"
      ],
      "metadata": {
        "id": "ncG8QU4A6uHO"
      },
      "execution_count": 40,
      "outputs": []
    },
    {
      "cell_type": "markdown",
      "source": [
        "2. Lakukan Face Detection untuk image object lain yang tersedia pada (/images/facedet).\n",
        "Tampilkan seperti pada contoh berikut. Perhatikan pada hasil face detection dibawah\n",
        "ini. Secara keseluruhan, face detection dapat dilakukan dengan baik, bahkan untuk\n",
        "image berupa gambar bukan foto, wajah bermasker, atau wajah yang berukuran kecil\n",
        "(solvay)."
      ],
      "metadata": {
        "id": "bGdrtJgnOFZa"
      }
    },
    {
      "cell_type": "code",
      "source": [
        "#Loading the image to be tested\n",
        "test_image1 = cv2.imread('/content/drive/MyDrive/PCVK/images/facedet/jokowi.jpg')\n",
        "test_image2 = cv2.imread('/content/drive/MyDrive/PCVK/images/facedet/jokowi.jpg')\n",
        "\n",
        "test_image3 = cv2.imread('/content/drive/MyDrive/PCVK/images/facedet/kartini.jpg')\n",
        "test_image4 = cv2.imread('/content/drive/MyDrive/PCVK/images/facedet/kartini.jpg')\n",
        "\n",
        "test_image5 = cv2.imread('/content/drive/MyDrive/PCVK/images/facedet/mycat.jpg')\n",
        "test_image6 = cv2.imread('/content/drive/MyDrive/PCVK/images/facedet/mycat.jpg')\n",
        "\n",
        "test_image7 = cv2.imread('/content/drive/MyDrive/PCVK/images/facedet/mask.png')\n",
        "test_image8 = cv2.imread('/content/drive/MyDrive/PCVK/images/facedet/mask.png')\n",
        "\n",
        "test_image9 = cv2.imread('/content/drive/MyDrive/PCVK/images/facedet/mjordan.jpg')\n",
        "test_image10 = cv2.imread('/content/drive/MyDrive/PCVK/images/facedet/mjordan.jpg')\n",
        "\n",
        "test_image11 = cv2.imread('/content/drive/MyDrive/PCVK/images/facedet/solvayconf.jpg')\n",
        "test_image12 = cv2.imread('/content/drive/MyDrive/PCVK/images/facedet/solvayconf.jpg')\n",
        "\n",
        "\n",
        "def convertToRGB(image):\n",
        "    return cv2.cvtColor(image, cv2.COLOR_BGR2RGB)\n",
        "\n",
        "faceCascade=cv2.CascadeClassifier(cv2.data.haarcascades + \"haarcascade_frontalface_default.xml\")\n",
        "\n",
        "faces_rects = faceCascade.detectMultiScale(test_image1, scaleFactor = 1.2, minNeighbors = 5);\n",
        "for (x,y,w,h) in faces_rects:\n",
        "     cv2.rectangle(test_image1, (x, y), (x+w, y+h), (0, 255, 0), 5)\n",
        "\n",
        "\n",
        "faces_rects = faceCascade.detectMultiScale(test_image4, scaleFactor = 1.2, minNeighbors = 5);\n",
        "for (x,y,w,h) in faces_rects:\n",
        "     cv2.rectangle(test_image4, (x, y), (x+w, y+h), (0, 255, 0), 5)\n",
        "\n",
        "\n",
        "faces_rects = faceCascade.detectMultiScale(test_image6, scaleFactor = 1.2, minNeighbors = 5);\n",
        "for (x,y,w,h) in faces_rects:\n",
        "     cv2.rectangle(test_image6, (x, y), (x+w, y+h), (0, 255, 0), 5)\n",
        "\n",
        "\n",
        "faces_rects = faceCascade.detectMultiScale(test_image8, scaleFactor = 1.2, minNeighbors = 5);\n",
        "for (x,y,w,h) in faces_rects:\n",
        "     cv2.rectangle(test_image8, (x, y), (x+w, y+h), (0, 255, 0), 5)\n",
        "\n",
        "\n",
        "faces_rects = faceCascade.detectMultiScale(test_image10, scaleFactor = 1.2, minNeighbors = 5);\n",
        "for (x,y,w,h) in faces_rects:\n",
        "     cv2.rectangle(test_image10, (x, y), (x+w, y+h), (0, 255, 0), 3)\n",
        "\n",
        "\n",
        "faces_rects = faceCascade.detectMultiScale(test_image12, scaleFactor = 1.2, minNeighbors = 5);\n",
        "for (x,y,w,h) in faces_rects:\n",
        "     cv2.rectangle(test_image12, (x, y), (x+w, y+h), (0, 255, 0), 3)\n",
        "\n",
        "\n",
        "f, axarr = plt. subplots(6,2,figsize=(15,10))\n",
        "plt.subplot(321),plt.imshow(convertToRGB(test_image2))\n",
        "plt.subplot(322),plt.imshow(convertToRGB(test_image1))\n",
        "\n",
        "plt.subplot(323),plt.imshow(convertToRGB(test_image3))\n",
        "plt.subplot(324),plt.imshow(convertToRGB(test_image4))\n",
        "\n",
        "plt.subplot(325),plt.imshow(convertToRGB(test_image5))\n",
        "plt.subplot(326),plt.imshow(convertToRGB(test_image6))\n",
        "\n",
        "f, axarr = plt. subplots(6,2,figsize=(15,10))\n",
        "plt.subplot(321),plt.imshow(convertToRGB(test_image7))\n",
        "plt.subplot(322),plt.imshow(convertToRGB(test_image8))\n",
        "\n",
        "plt.subplot(323),plt.imshow(convertToRGB(test_image9))\n",
        "plt.subplot(324),plt.imshow(convertToRGB(test_image10))\n",
        "\n",
        "plt.subplot(325),plt.imshow(convertToRGB(test_image11))\n",
        "plt.subplot(326),plt.imshow(convertToRGB(test_image12))"
      ],
      "metadata": {
        "id": "mMnQ-xQxPcDA",
        "outputId": "212d3cb0-0967-47cc-8d3a-dafd58e22ff4",
        "colab": {
          "base_uri": "https://localhost:8080/",
          "height": 1000
        }
      },
      "execution_count": 42,
      "outputs": [
        {
          "output_type": "stream",
          "name": "stderr",
          "text": [
            "<ipython-input-42-336e2c5d9a2d>:57: MatplotlibDeprecationWarning: Auto-removal of overlapping axes is deprecated since 3.6 and will be removed two minor releases later; explicitly call ax.remove() as needed.\n",
            "  plt.subplot(321),plt.imshow(convertToRGB(test_image2))\n"
          ]
        },
        {
          "output_type": "error",
          "ename": "error",
          "evalue": "ignored",
          "traceback": [
            "\u001b[0;31m---------------------------------------------------------------------------\u001b[0m",
            "\u001b[0;31merror\u001b[0m                                     Traceback (most recent call last)",
            "\u001b[0;32m<ipython-input-42-336e2c5d9a2d>\u001b[0m in \u001b[0;36m<cell line: 57>\u001b[0;34m()\u001b[0m\n\u001b[1;32m     55\u001b[0m \u001b[0;34m\u001b[0m\u001b[0m\n\u001b[1;32m     56\u001b[0m \u001b[0mf\u001b[0m\u001b[0;34m,\u001b[0m \u001b[0maxarr\u001b[0m \u001b[0;34m=\u001b[0m \u001b[0mplt\u001b[0m\u001b[0;34m.\u001b[0m \u001b[0msubplots\u001b[0m\u001b[0;34m(\u001b[0m\u001b[0;36m6\u001b[0m\u001b[0;34m,\u001b[0m\u001b[0;36m2\u001b[0m\u001b[0;34m,\u001b[0m\u001b[0mfigsize\u001b[0m\u001b[0;34m=\u001b[0m\u001b[0;34m(\u001b[0m\u001b[0;36m15\u001b[0m\u001b[0;34m,\u001b[0m\u001b[0;36m10\u001b[0m\u001b[0;34m)\u001b[0m\u001b[0;34m)\u001b[0m\u001b[0;34m\u001b[0m\u001b[0;34m\u001b[0m\u001b[0m\n\u001b[0;32m---> 57\u001b[0;31m \u001b[0mplt\u001b[0m\u001b[0;34m.\u001b[0m\u001b[0msubplot\u001b[0m\u001b[0;34m(\u001b[0m\u001b[0;36m321\u001b[0m\u001b[0;34m)\u001b[0m\u001b[0;34m,\u001b[0m\u001b[0mplt\u001b[0m\u001b[0;34m.\u001b[0m\u001b[0mimshow\u001b[0m\u001b[0;34m(\u001b[0m\u001b[0mconvertToRGB\u001b[0m\u001b[0;34m(\u001b[0m\u001b[0mtest_image2\u001b[0m\u001b[0;34m)\u001b[0m\u001b[0;34m)\u001b[0m\u001b[0;34m\u001b[0m\u001b[0;34m\u001b[0m\u001b[0m\n\u001b[0m\u001b[1;32m     58\u001b[0m \u001b[0mplt\u001b[0m\u001b[0;34m.\u001b[0m\u001b[0msubplot\u001b[0m\u001b[0;34m(\u001b[0m\u001b[0;36m322\u001b[0m\u001b[0;34m)\u001b[0m\u001b[0;34m,\u001b[0m\u001b[0mplt\u001b[0m\u001b[0;34m.\u001b[0m\u001b[0mimshow\u001b[0m\u001b[0;34m(\u001b[0m\u001b[0mconvertToRGB\u001b[0m\u001b[0;34m(\u001b[0m\u001b[0mtest_image1\u001b[0m\u001b[0;34m)\u001b[0m\u001b[0;34m)\u001b[0m\u001b[0;34m\u001b[0m\u001b[0;34m\u001b[0m\u001b[0m\n\u001b[1;32m     59\u001b[0m \u001b[0;34m\u001b[0m\u001b[0m\n",
            "\u001b[0;32m<ipython-input-42-336e2c5d9a2d>\u001b[0m in \u001b[0;36mconvertToRGB\u001b[0;34m(image)\u001b[0m\n\u001b[1;32m     20\u001b[0m \u001b[0;34m\u001b[0m\u001b[0m\n\u001b[1;32m     21\u001b[0m \u001b[0;32mdef\u001b[0m \u001b[0mconvertToRGB\u001b[0m\u001b[0;34m(\u001b[0m\u001b[0mimage\u001b[0m\u001b[0;34m)\u001b[0m\u001b[0;34m:\u001b[0m\u001b[0;34m\u001b[0m\u001b[0;34m\u001b[0m\u001b[0m\n\u001b[0;32m---> 22\u001b[0;31m     \u001b[0;32mreturn\u001b[0m \u001b[0mcv2\u001b[0m\u001b[0;34m.\u001b[0m\u001b[0mcvtColor\u001b[0m\u001b[0;34m(\u001b[0m\u001b[0mimage\u001b[0m\u001b[0;34m,\u001b[0m \u001b[0mcv2\u001b[0m\u001b[0;34m.\u001b[0m\u001b[0mCOLOR_BGR2RGB\u001b[0m\u001b[0;34m)\u001b[0m\u001b[0;34m\u001b[0m\u001b[0;34m\u001b[0m\u001b[0m\n\u001b[0m\u001b[1;32m     23\u001b[0m \u001b[0;34m\u001b[0m\u001b[0m\n\u001b[1;32m     24\u001b[0m \u001b[0mfaceCascade\u001b[0m\u001b[0;34m=\u001b[0m\u001b[0mcv2\u001b[0m\u001b[0;34m.\u001b[0m\u001b[0mCascadeClassifier\u001b[0m\u001b[0;34m(\u001b[0m\u001b[0mcv2\u001b[0m\u001b[0;34m.\u001b[0m\u001b[0mdata\u001b[0m\u001b[0;34m.\u001b[0m\u001b[0mhaarcascades\u001b[0m \u001b[0;34m+\u001b[0m \u001b[0;34m\"haarcascade_frontalface_default.xml\"\u001b[0m\u001b[0;34m)\u001b[0m\u001b[0;34m\u001b[0m\u001b[0;34m\u001b[0m\u001b[0m\n",
            "\u001b[0;31merror\u001b[0m: OpenCV(4.7.0) /io/opencv/modules/imgproc/src/color.cpp:182: error: (-215:Assertion failed) !_src.empty() in function 'cvtColor'\n"
          ]
        },
        {
          "output_type": "display_data",
          "data": {
            "text/plain": [
              "<Figure size 1500x1000 with 11 Axes>"
            ],
            "image/png": "[encoded data removed]"
          },
          "metadata": {}
        }
      ]
    },
    {
      "cell_type": "markdown",
      "source": [
        "3. Pada Soal No.2. wajah kucing tidak bisa dideteksi dengan baik. Lakukan deteksi wajah\n",
        "kucing hingga muncul rectangle pada bagian wajahnya seperti gambar berikut.\n",
        "Petunjuk pada soal ini, perhatikan pretrained features yang telah disediakan OpenCV.\n",
        "Gunakan xml yang ada jika memang telah disediakan. Jika belum ada, coba cari\n",
        "dengan searching melalui search engines."
      ],
      "metadata": {
        "id": "HLMP8U93O-pJ"
      }
    },
    {
      "cell_type": "code",
      "source": [],
      "metadata": {
        "id": "xcqSnMMiPcY5"
      },
      "execution_count": null,
      "outputs": []
    },
    {
      "cell_type": "markdown",
      "source": [
        "4. Cobakan juga untuk eyes detection pada gambar Jokowi.jpg, sehingga menghasilkan\n",
        "gambar seperti berikut"
      ],
      "metadata": {
        "id": "bH4iqgFjPCBf"
      }
    },
    {
      "cell_type": "code",
      "source": [],
      "metadata": {
        "id": "iwnzy_PmPdTJ"
      },
      "execution_count": null,
      "outputs": []
    },
    {
      "cell_type": "markdown",
      "source": [
        "5. Lakukan Face Tracking menggunakan Google Colab. Petunjuk, Tutorial selengkapnya\n",
        "tentang akses kamera dan FaceDetection pada google colab dapat dilihat di link\n",
        "berikut: https://www.youtube.com/watch?v=YiWh7QvVH60\n"
      ],
      "metadata": {
        "id": "RASU0YbmPEwH"
      }
    },
    {
      "cell_type": "code",
      "source": [],
      "metadata": {
        "id": "s9o5caBaPdnY"
      },
      "execution_count": null,
      "outputs": []
    },
    {
      "cell_type": "markdown",
      "source": [
        "6. Lakukan deteksi bagian wajah gambar “mjordan.jpg”, kemudian tindih bagian wajah\n",
        "tersebut dengan gambar “smile.png”. Berikut contoh keluarannya."
      ],
      "metadata": {
        "id": "UluOqNfKPM52"
      }
    },
    {
      "cell_type": "code",
      "source": [],
      "metadata": {
        "id": "-5c4Yo1aPeDW"
      },
      "execution_count": null,
      "outputs": []
    },
    {
      "cell_type": "markdown",
      "source": [
        "7. Lakukan deteksi wajah dengan menggunakan bounding box berwarna hitam, deteksi\n",
        "mata menggunakan bounding box berwarna putih, dan deteksi mata kanan\n",
        "menggunakan bounding box berwarna merah. Gunakan gambar “people.jpg” untuk\n",
        "mengerjakan soal pada nomor ini. Berikut contoh keluarannya. "
      ],
      "metadata": {
        "id": "jYcgX_a-PR1o"
      }
    },
    {
      "cell_type": "code",
      "source": [],
      "metadata": {
        "id": "qiR7G696O-Sm"
      },
      "execution_count": null,
      "outputs": []
    },
    {
      "cell_type": "code",
      "source": [],
      "metadata": {
        "id": "VDV45vzpOPM3"
      },
      "execution_count": null,
      "outputs": []
    }
  ],
  "metadata": {
    "colab": {
      "name": "Selamat Datang di Colaboratory",
      "provenance": [],
      "include_colab_link": true
    },
    "kernelspec": {
      "display_name": "Python 3",
      "name": "python3"
    }
  },
  "nbformat": 4,
  "nbformat_minor": 0
}